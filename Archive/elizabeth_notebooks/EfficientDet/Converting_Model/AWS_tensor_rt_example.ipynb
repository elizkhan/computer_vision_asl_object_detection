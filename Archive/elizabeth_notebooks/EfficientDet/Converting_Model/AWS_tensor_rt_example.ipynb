{
 "cells": [
  {
   "cell_type": "markdown",
   "id": "7445e18a",
   "metadata": {},
   "source": [
    "##### SSH into AWS VM  \n",
    "Replace information with the VM public address:  \n",
    "- ```ssh -v -i cemkeypair1.pem ubuntu@ec2-54-242-133-26.compute-1.amazonaws.com```  \n",
    "- ```ssh -A ubuntu@ec2-54-161-246-137.compute-1.amazonaws.com```\n",
    "\n",
    "\n",
    "ec2-18-208-189-73.compute-1.amazonaws.com"
   ]
  },
  {
   "cell_type": "markdown",
   "id": "2b70c567",
   "metadata": {},
   "source": [
    "### Docker container for Pytorch - Tensor Rt\n",
    "\n",
    "```shell\n",
    "docker run --rm -it --ipc=host -v ~/w251_FP_CEM_various:/workspace/w251_FP_CEM_various --gpus all --net=host nvcr.io/nvidia/pytorch:21.11-py3\n",
    "```"
   ]
  },
  {
   "cell_type": "markdown",
   "id": "0938fd4a",
   "metadata": {},
   "source": [
    "### Jupyter Notebook Connection\n",
    "\n",
    "```shell\n",
    "jupyter lab --allow-root --ip=0.0.0.0 --NotebookApp.token='TensorRT' --port 8888\n",
    "```\n",
    "\n",
    "Use IPv4:8888 to access jupyter lab from browser. The IPv4 is the public IP provided from AWS. The token is TensorRT.\n",
    "\n",
    "```shell\n",
    "http://hostname:8888/?token=...\n",
    "\n",
    "http://54.242.133.26:8888/?token=TensorRT\n",
    "```\n",
    "3.236.130.108"
   ]
  }
 ],
 "metadata": {
  "kernelspec": {
   "display_name": "w251",
   "language": "python",
   "name": "w251"
  },
  "language_info": {
   "codemirror_mode": {
    "name": "ipython",
    "version": 3
   },
   "file_extension": ".py",
   "mimetype": "text/x-python",
   "name": "python",
   "nbconvert_exporter": "python",
   "pygments_lexer": "ipython3",
   "version": "3.9.7"
  }
 },
 "nbformat": 4,
 "nbformat_minor": 5
}
